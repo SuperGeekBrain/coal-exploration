{
  "nbformat": 4,
  "nbformat_minor": 0,
  "metadata": {
    "colab": {
      "name": "Numbers.ipynb",
      "provenance": [],
      "authorship_tag": "ABX9TyNrt5YZlZISEVwlQlP/PRN2",
      "include_colab_link": true
    },
    "kernelspec": {
      "name": "python3",
      "display_name": "Python 3"
    },
    "language_info": {
      "name": "python"
    }
  },
  "cells": [
    {
      "cell_type": "markdown",
      "metadata": {
        "id": "view-in-github",
        "colab_type": "text"
      },
      "source": [
        "<a href=\"https://colab.research.google.com/github/SuperGeekBrain/coal-exploration/blob/master/Numbers.ipynb\" target=\"_parent\"><img src=\"https://colab.research.google.com/assets/colab-badge.svg\" alt=\"Open In Colab\"/></a>"
      ]
    },
    {
      "cell_type": "code",
      "metadata": {
        "id": "vV20YYqL-YGF"
      },
      "source": [
        "number1 = int(input(\"Please enter a number: \"))\n",
        "number2 = int(input(\"Please enter a second number: \"))\n",
        "\n",
        "if number1 > 5 and number2 > 5:\n",
        "  print(\"number1 and number2 are both greater than 5\")\n",
        "elif number1 > 5 and number2 < 5:\n",
        "    print(\"number1 is greater than 5, but number2 is not\")\n",
        "elif number1 < 5 and number2 > 5:\n",
        "    print(\"number2 is greater than 5, but number1 is not\")\n",
        "else:\n",
        "  print(\"neither number is greater than 5\")\n"
      ],
      "execution_count": null,
      "outputs": []
    }
  ]
}