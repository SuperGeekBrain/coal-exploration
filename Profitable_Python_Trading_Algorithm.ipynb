{
  "nbformat": 4,
  "nbformat_minor": 0,
  "metadata": {
    "colab": {
      "name": "Profitable Python Trading Algorithm.ipynb",
      "provenance": [],
      "authorship_tag": "ABX9TyMCmujtxeq8C52FPKG5I6lV",
      "include_colab_link": true
    },
    "kernelspec": {
      "name": "python3",
      "display_name": "Python 3"
    }
  },
  "cells": [
    {
      "cell_type": "markdown",
      "metadata": {
        "id": "view-in-github",
        "colab_type": "text"
      },
      "source": [
        "<a href=\"https://colab.research.google.com/github/SuperGeekBrain/coal-exploration/blob/master/Profitable_Python_Trading_Algorithm.ipynb\" target=\"_parent\"><img src=\"https://colab.research.google.com/assets/colab-badge.svg\" alt=\"Open In Colab\"/></a>"
      ]
    },
    {
      "cell_type": "code",
      "metadata": {
        "id": "3d_ZiX3mEpA_"
      },
      "source": [
        "import pandas as pd\r\n",
        "import numpy as np\r\n",
        "import matplotlib.pyplot as plt\r\n",
        "%matplotlib inline"
      ],
      "execution_count": null,
      "outputs": []
    },
    {
      "cell_type": "markdown",
      "metadata": {
        "id": "WaYz19FAFOYQ"
      },
      "source": [
        "**Part 1: Get the data**"
      ]
    },
    {
      "cell_type": "code",
      "metadata": {
        "id": "mfNKqShpFXd5"
      },
      "source": [
        "df = pd.read_excel()\r\n",
        "df.columns = df.columns.str.strip()\r\n",
        "\r\n",
        "df"
      ],
      "execution_count": null,
      "outputs": []
    },
    {
      "cell_type": "markdown",
      "metadata": {
        "id": "RKAfVoEgGJpE"
      },
      "source": [
        "**Part 2: Calculate the inputs that go into the model**"
      ]
    },
    {
      "cell_type": "code",
      "metadata": {
        "id": "qkpKjtdsFtE2"
      },
      "source": [
        "df['TLT % change'] = df['TLT'].pct_change()\r\n",
        "df['QQQ % change'] = df['QQQ'].pct_change()\r\n",
        "# ema - Exponential moving average\r\n",
        "df['5 ema'] = df['IWO'].ewm(span=5, adjust = False).mean()\r\n",
        "df['10 ema'] = df['IWO'].ewm(span=10, adjust = False).mean()\r\n",
        "df['150 ema'] = df['IWO'].ewm(span=150, adjust = False).mean()\r\n",
        "\r\n",
        "df = df.iloc[150:]"
      ],
      "execution_count": null,
      "outputs": []
    },
    {
      "cell_type": "markdown",
      "metadata": {
        "id": "iM21uVGxHXMi"
      },
      "source": [
        "**Part 3: Model's Criteria**"
      ]
    },
    {
      "cell_type": "code",
      "metadata": {
        "id": "IDebBMmTFqAD"
      },
      "source": [
        "df['QQQ Criteria'] = (df['IWO'] > df['150 ema']) | (df['5 ema'] > df['10 ema'])\r\n",
        "df['TLT Criteria'] = np.logical_not(df['Criteria'])"
      ],
      "execution_count": null,
      "outputs": []
    },
    {
      "cell_type": "markdown",
      "metadata": {
        "id": "VU4GwKd4IjB5"
      },
      "source": [
        "**Part 4: Calculate the model**"
      ]
    },
    {
      "cell_type": "code",
      "metadata": {
        "id": "BnJxtKsyIpyj"
      },
      "source": [
        "df['mode'] = 100*(1 + (df['QQQ Criteria'].shift(1)*df['QQQ % change']) + (df['TLT Criteria'].shift(1)*df[TLT % change]) ).cumprod()"
      ],
      "execution_count": null,
      "outputs": []
    },
    {
      "cell_type": "markdown",
      "metadata": {
        "id": "gS5paFk1JkLZ"
      },
      "source": [
        "**Part 5: Calculate the model's statistics**"
      ]
    },
    {
      "cell_type": "code",
      "metadata": {
        "id": "JUDxPyOYJs6v"
      },
      "source": [
        "#Average yearly return\r\n",
        "start_model = df['model'].iloc[150]\r\n",
        "end_model = df('model').iloc[-1]\r\n",
        "years = (df['model'].count()+1-150)/252\r\n",
        "model_average_return = (end_model/start_model)**(1/years)-1\r\n",
        "print('model yields', model_average_return*100, '% per year')\r\n",
        "\r\n",
        "#Maximum drawdown\r\n",
        "df['Drawdown'] = (df['model']/df['model'].cummax()-1)*100\r\n",
        "drawdown = df['Drawdown'].min()\r\n",
        "print(drawdown)"
      ],
      "execution_count": null,
      "outputs": []
    },
    {
      "cell_type": "markdown",
      "metadata": {
        "id": "blMNV42RLTel"
      },
      "source": [
        "**Part 6: Plot the model**"
      ]
    },
    {
      "cell_type": "code",
      "metadata": {
        "id": "Buba9o8jLZ9l"
      },
      "source": [
        "df['model'].plot(grid=True, kind='line', title='model', logy=True, figsize = (16,8))"
      ],
      "execution_count": null,
      "outputs": []
    },
    {
      "cell_type": "markdown",
      "metadata": {
        "id": "oNEXYgykL4Cr"
      },
      "source": [
        "**Part 7: Plot the Maximum Drawdown**"
      ]
    },
    {
      "cell_type": "code",
      "metadata": {
        "id": "3lPgTQe3L-76"
      },
      "source": [
        "x = df['Date']\r\n",
        "y = df['Drawdown']\r\n",
        "\r\n",
        "plt.plot(x,y)\r\n",
        "plt.rcParams[\"figure.figsize\"] = (100,50)"
      ],
      "execution_count": null,
      "outputs": []
    }
  ]
}