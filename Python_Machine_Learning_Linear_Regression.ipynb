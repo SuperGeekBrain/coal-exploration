{
  "nbformat": 4,
  "nbformat_minor": 0,
  "metadata": {
    "colab": {
      "name": "Python Machine Learning - Linear Regression.ipynb",
      "provenance": [],
      "authorship_tag": "ABX9TyOUbuKTAjPYv9s/zxeXGCvy",
      "include_colab_link": true
    },
    "kernelspec": {
      "name": "python3",
      "display_name": "Python 3"
    }
  },
  "cells": [
    {
      "cell_type": "markdown",
      "metadata": {
        "id": "view-in-github",
        "colab_type": "text"
      },
      "source": [
        "<a href=\"https://colab.research.google.com/github/SuperGeekBrain/coal-exploration/blob/master/Python_Machine_Learning_Linear_Regression.ipynb\" target=\"_parent\"><img src=\"https://colab.research.google.com/assets/colab-badge.svg\" alt=\"Open In Colab\"/></a>"
      ]
    },
    {
      "cell_type": "markdown",
      "metadata": {
        "id": "CobAlPVodHBa"
      },
      "source": [
        "https://www.youtube.com/watch?v=1BYu65vLKdA\r\n"
      ]
    },
    {
      "cell_type": "code",
      "metadata": {
        "id": "1PdfWjBVA2uG"
      },
      "source": [
        "import pandas as pd\r\n",
        "import numpy as np\r\n",
        "import sklearn\r\n",
        "from sklearn import linear_model\r\n",
        "from sklearn.utils import shuffle"
      ],
      "execution_count": 6,
      "outputs": []
    },
    {
      "cell_type": "code",
      "metadata": {
        "id": "KCtorD7ZdMR3"
      },
      "source": [
        "data = pd.read_csv(\"student-mat.csv\", sep=\";\")\r\n",
        "\r\n",
        "data = data[[\"G1\", \"G2\", \"G3\", \"studytime\", \"failures\"]]\r\n",
        "\r\n",
        "predict = \"G3\"\r\n",
        "\r\n",
        "X = np.array(data.drop([predict], 1))\r\n",
        "y np.array(data[predict])\r\n",
        "\r\n",
        "x_train, x_test, y_train, y_test = sklearn.model_selection.train_test_split(X, y, test_size_=_0.1)\r\n",
        "\r\n",
        "linear = linear_model.LinearRegression()\r\n",
        "\r\n",
        "linear.fit(x_train, y_train)\r\n",
        "acc = linear.score(x_test, y_test)\r\n",
        "print(acc)\r\n"
      ],
      "execution_count": null,
      "outputs": []
    },
    {
      "cell_type": "markdown",
      "metadata": {
        "id": "xdGyXOuRghvZ"
      },
      "source": [
        "**Testing the model.**\r\n",
        "\r\n",
        "Creating the constant. What those coefficients are. What M and what B are for this actual line."
      ]
    },
    {
      "cell_type": "code",
      "metadata": {
        "id": "SVs21_8UhPGL"
      },
      "source": [
        "print('Coefficient: \\n', linear.coef_)\r\n",
        "print('Intercept: \\n', linear.intercept_)"
      ],
      "execution_count": null,
      "outputs": []
    },
    {
      "cell_type": "markdown",
      "metadata": {
        "id": "JY11TruToeTt"
      },
      "source": [
        "**Predictions**"
      ]
    },
    {
      "cell_type": "code",
      "metadata": {
        "id": "XU6PUdohohlO"
      },
      "source": [
        "predictions = linear.predict(x_test)\r\n",
        "\r\n",
        "for xin range(len(predictions)):\r\n",
        "  print(predictions[x], x_test[x], y_test[x])"
      ],
      "execution_count": null,
      "outputs": []
    }
  ]
}