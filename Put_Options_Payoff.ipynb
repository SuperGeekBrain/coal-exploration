{
  "nbformat": 4,
  "nbformat_minor": 0,
  "metadata": {
    "colab": {
      "name": "Put Options Payoff.ipynb",
      "provenance": [],
      "authorship_tag": "ABX9TyPbt04DJ6cFL/QDGqn8Mmzj",
      "include_colab_link": true
    },
    "kernelspec": {
      "name": "python3",
      "display_name": "Python 3"
    }
  },
  "cells": [
    {
      "cell_type": "markdown",
      "metadata": {
        "id": "view-in-github",
        "colab_type": "text"
      },
      "source": [
        "<a href=\"https://colab.research.google.com/github/SuperGeekBrain/coal-exploration/blob/master/Put_Options_Payoff.ipynb\" target=\"_parent\"><img src=\"https://colab.research.google.com/assets/colab-badge.svg\" alt=\"Open In Colab\"/></a>"
      ]
    },
    {
      "cell_type": "code",
      "metadata": {
        "id": "oLYvBTa_DBM2"
      },
      "source": [
        "# Import libraries"
      ],
      "execution_count": null,
      "outputs": []
    },
    {
      "cell_type": "code",
      "metadata": {
        "id": "Al4h5u7uERUx"
      },
      "source": [
        "import numpy as np\r\n",
        "import matplotlib.pyplot as plt\r\n",
        "# For making attractive and informative statistical graph\r\n",
        "plt.style.use('seaborn-darkgrid')"
      ],
      "execution_count": 10,
      "outputs": []
    },
    {
      "cell_type": "markdown",
      "metadata": {
        "id": "X3ejZ437FiX4"
      },
      "source": [
        "**Put payoff**\r\n",
        "\r\n",
        "We define a function ***put_payoff*** that calculates the payoff from buying a put option. The function takes **sT** which is a range of possible values of the stock price at expiration, the strike price of the put option and the premium of the put option as input.\r\n",
        "\r\n",
        "It returns a numpy array containing the profit from put option for different stock prices. When the stock price is less than the strike price, the profit is measured as the difference between strike price and stock price, and when the stock price is greater than the strike price then the profit is zero. After this, a put premium is deducted from the **Profit-n-Lose(pnl)** to compute the payoff."
      ]
    },
    {
      "cell_type": "code",
      "metadata": {
        "id": "nNZZ978qE6k2"
      },
      "source": [
        "def put_payoff (sT, strike_price, premium):\r\n",
        "  pnl = np.where(sT<strike_price, strike_price - sT, 0)\r\n",
        "  return pnl - premium"
      ],
      "execution_count": 23,
      "outputs": []
    },
    {
      "cell_type": "markdown",
      "metadata": {
        "id": "kbGlIhQFGZnu"
      },
      "source": [
        "**Define parameters**\r\n",
        "\r\n",
        "We will define the spot price, the strike price, premium, and a range of possible values for the Infosys stock price at expiry."
      ]
    },
    {
      "cell_type": "code",
      "metadata": {
        "id": "hkXKa51rGeg0"
      },
      "source": [
        "# Infosys stock price\r\n",
        "spot_price = 900\r\n",
        "\r\n",
        "# Put strike price and cost\r\n",
        "strike_price = 900\r\n",
        "premium = 20\r\n",
        "\r\n",
        "# Stock price range at the expiration of the put\r\n",
        "# We have defined range for the stock price at expiry as +/- 10% from spot price\r\n",
        "# Syntax: numpy.arange (start price, stop price)\r\n",
        "sT = np.arange(0,9*spot_price, 1.1*spot_price)"
      ],
      "execution_count": 24,
      "outputs": []
    },
    {
      "cell_type": "code",
      "metadata": {
        "colab": {
          "base_uri": "https://localhost:8080/",
          "height": 312
        },
        "id": "cKPRQBjxGDKo",
        "outputId": "7cc622b3-575f-4b79-b085-1b09bc424003"
      },
      "source": [
        "# Put option buyer payoff\r\n",
        "payoff_long_put = put_payoff(sT, strike_price, premium)\r\n",
        "# Plot the graph\r\n",
        "fig, ax = plt.subplots(figsize=(8,5))\r\n",
        "ax.spines['bottom'].set_position('zero')\r\n",
        "ax.plot(sT,payoff_long_put, label='Put option buyer payoff')\r\n",
        "plt.xlabel('Infosys Stock Price')\r\n",
        "plt.ylabel('Profit and loss')\r\n",
        "plt.legend()\r\n",
        "plt.show()"
      ],
      "execution_count": 26,
      "outputs": [
        {
          "output_type": "display_data",
          "data": {
            "image/png": "[encoded data removed]",
            "text/plain": [
              "<Figure size 576x360 with 1 Axes>"
            ]
          },
          "metadata": {
            "tags": []
          }
        }
      ]
    }
  ]
}