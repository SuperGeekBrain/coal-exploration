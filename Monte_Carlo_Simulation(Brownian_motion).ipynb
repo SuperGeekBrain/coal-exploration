{
  "nbformat": 4,
  "nbformat_minor": 0,
  "metadata": {
    "colab": {
      "name": "Monte Carlo Simulation(Brownian motion).ipynb",
      "provenance": [],
      "authorship_tag": "ABX9TyPKFvQAh7iyR7qgTYgccc/+",
      "include_colab_link": true
    },
    "kernelspec": {
      "name": "python3",
      "display_name": "Python 3"
    }
  },
  "cells": [
    {
      "cell_type": "markdown",
      "metadata": {
        "id": "view-in-github",
        "colab_type": "text"
      },
      "source": [
        "<a href=\"https://colab.research.google.com/github/SuperGeekBrain/coal-exploration/blob/master/Monte_Carlo_Simulation(Brownian_motion).ipynb\" target=\"_parent\"><img src=\"https://colab.research.google.com/assets/colab-badge.svg\" alt=\"Open In Colab\"/></a>"
      ]
    },
    {
      "cell_type": "code",
      "metadata": {
        "id": "DLaWJecbNiAf"
      },
      "source": [
        "S = 100\r\n",
        "T = 1\r\n",
        "r = 0.07\r\n",
        "sigma = 0.2\r\n",
        "Nsimulations = 5000\r\n",
        "Nsteps = 250\r\n",
        "K = 100"
      ],
      "execution_count": 8,
      "outputs": []
    },
    {
      "cell_type": "code",
      "metadata": {
        "id": "GxKA6Dh9OCii"
      },
      "source": [
        "dt = T/Nsteps"
      ],
      "execution_count": 9,
      "outputs": []
    },
    {
      "cell_type": "code",
      "metadata": {
        "id": "SIcnmkY1OQex"
      },
      "source": [
        "import numpy as np\r\n",
        "\r\n",
        "drift = (r-(sigma**2)/2)*dt\r\n",
        "a = sigma*np.sqrt(dt)\r\n",
        "x = np.random.normal(0,1,(Nsimulations,Nsteps))"
      ],
      "execution_count": 29,
      "outputs": []
    },
    {
      "cell_type": "code",
      "metadata": {
        "id": "ojF6JJE7PIev"
      },
      "source": [
        "Smat = np.zeros((Nsimulations,Nsteps))\r\n",
        "Smat[:,0]+=S\r\n",
        "\r\n",
        "for i in range(1,Nsteps):\r\n",
        "  Smat[:,i] += Smat[:,i-1] * np.exp(drift +a*x[:,1])"
      ],
      "execution_count": 30,
      "outputs": []
    },
    {
      "cell_type": "code",
      "metadata": {
        "id": "V2ow-3QqRZFo"
      },
      "source": [
        "q = Smat[:,1] - K\r\n",
        "for i in range(len(q)):\r\n",
        "  if p[i]<0:\r\n",
        "    p[i] = 0\r\n",
        "  else:\r\n",
        "    q[i] = q[i]"
      ],
      "execution_count": 31,
      "outputs": []
    },
    {
      "cell_type": "code",
      "metadata": {
        "id": "WN5wD5gHQLRO"
      },
      "source": [
        "p = K - Smat[:,1]\r\n",
        "for i in range(len(p)):\r\n",
        "  if p[i]<0:\r\n",
        "    p[i] = 0\r\n",
        "  else:\r\n",
        "    p[i] = p[i]"
      ],
      "execution_count": 32,
      "outputs": []
    },
    {
      "cell_type": "code",
      "metadata": {
        "id": "ScIp9yYVQW3m"
      },
      "source": [
        "payoff_call = np.mean(q)\r\n",
        "payoff_put = np.mean(p)"
      ],
      "execution_count": 33,
      "outputs": []
    },
    {
      "cell_type": "code",
      "metadata": {
        "colab": {
          "base_uri": "https://localhost:8080/"
        },
        "id": "p455V8ReSaSD",
        "outputId": "98335afc-a899-4af4-c186-a5d3b660eaff"
      },
      "source": [
        "payoff_call"
      ],
      "execution_count": 34,
      "outputs": [
        {
          "output_type": "execute_result",
          "data": {
            "text/plain": [
              "-1.6797497611431738"
            ]
          },
          "metadata": {
            "tags": []
          },
          "execution_count": 34
        }
      ]
    },
    {
      "cell_type": "code",
      "metadata": {
        "colab": {
          "base_uri": "https://localhost:8080/"
        },
        "id": "QrXoPm6hSm0d",
        "outputId": "47b3d700-4381-47c3-f6eb-92092194a6be"
      },
      "source": [
        "payoff_put"
      ],
      "execution_count": 35,
      "outputs": [
        {
          "output_type": "execute_result",
          "data": {
            "text/plain": [
              "3.4256633535220744"
            ]
          },
          "metadata": {
            "tags": []
          },
          "execution_count": 35
        }
      ]
    },
    {
      "cell_type": "code",
      "metadata": {
        "id": "dnmxKlJrSocS"
      },
      "source": [
        "call = payoff_call*np.exp(-r * T)\r\n",
        "put = payoff_put*np.exp(-r * T)"
      ],
      "execution_count": 36,
      "outputs": []
    },
    {
      "cell_type": "code",
      "metadata": {
        "colab": {
          "base_uri": "https://localhost:8080/"
        },
        "id": "9RqRnQqUTIty",
        "outputId": "4bdcb8c0-8f36-408d-bc53-f846c61a0f5c"
      },
      "source": [
        "call"
      ],
      "execution_count": 37,
      "outputs": [
        {
          "output_type": "execute_result",
          "data": {
            "text/plain": [
              "-1.566188296278388"
            ]
          },
          "metadata": {
            "tags": []
          },
          "execution_count": 37
        }
      ]
    },
    {
      "cell_type": "code",
      "metadata": {
        "colab": {
          "base_uri": "https://localhost:8080/"
        },
        "id": "gKB30o4sTJ39",
        "outputId": "af8ffbfc-6d0f-46fb-e94c-cdc1450ac8f9"
      },
      "source": [
        "put"
      ],
      "execution_count": 38,
      "outputs": [
        {
          "output_type": "execute_result",
          "data": {
            "text/plain": [
              "3.1940673399022677"
            ]
          },
          "metadata": {
            "tags": []
          },
          "execution_count": 38
        }
      ]
    },
    {
      "cell_type": "code",
      "metadata": {
        "id": "P18DPpXaTLM6"
      },
      "source": [
        ""
      ],
      "execution_count": null,
      "outputs": []
    }
  ]
}