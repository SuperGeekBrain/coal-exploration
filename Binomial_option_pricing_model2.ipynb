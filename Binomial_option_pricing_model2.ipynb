{
  "nbformat": 4,
  "nbformat_minor": 0,
  "metadata": {
    "colab": {
      "name": "Binomial option pricing model2.ipynb",
      "provenance": [],
      "collapsed_sections": [],
      "authorship_tag": "ABX9TyPIeFzCqtMFB8pasTsCV6Lb",
      "include_colab_link": true
    },
    "kernelspec": {
      "name": "python3",
      "display_name": "Python 3"
    }
  },
  "cells": [
    {
      "cell_type": "markdown",
      "metadata": {
        "id": "view-in-github",
        "colab_type": "text"
      },
      "source": [
        "<a href=\"https://colab.research.google.com/github/SuperGeekBrain/coal-exploration/blob/master/Binomial_option_pricing_model2.ipynb\" target=\"_parent\"><img src=\"https://colab.research.google.com/assets/colab-badge.svg\" alt=\"Open In Colab\"/></a>"
      ]
    },
    {
      "cell_type": "code",
      "metadata": {
        "id": "VAIS8jH9QNRI"
      },
      "source": [
        "#Binomial option pricing model (put, call)"
      ],
      "execution_count": null,
      "outputs": []
    },
    {
      "cell_type": "code",
      "metadata": {
        "id": "D9oUD8seQbGf"
      },
      "source": [
        "import numpy\n",
        "import time"
      ],
      "execution_count": null,
      "outputs": []
    },
    {
      "cell_type": "code",
      "metadata": {
        "id": "Lh0R0VXNQe9G"
      },
      "source": [
        "def binom_tree_call(N, T, S0, sigma, r, K, array_out=False):\n",
        "    # Initial parameters\n",
        "    dt = T/N\n",
        "    u = numpy.exp(sigma*numpy.sqrt(dt))\n",
        "    d = 1/u\n",
        "    p = (numpy.exp(r*dt)-d)/(u-d)\n",
        "\n",
        "    # Price tree\n",
        "    price_tree = numpy.zeros([N+1, N+1])\n",
        "\n",
        "    for i in range(N+1):\n",
        "      for j in range(1+i):\n",
        "        price_tree[j, i] = S0*(d**j)*(u**(i-j))\n",
        "\n",
        "    #Option value\n",
        "    option = numpy.zeros([N+1, N+1])\n",
        "    option[:, N] = numpy.maximum(numpy.zeros(N+1), price_tree[:, N]-K)\n",
        "\n",
        "    #Calculate option price at t=0\n",
        "    for i in numpy.arange(N-1, -1, -1):\n",
        "      for j in numpy.arange(0, i+1):\n",
        "        option[j, i] = numpy.exp(-r*dt)*(p*option[j, i+1]+(1-p)*option[j+1, i+1])\n",
        "\n",
        "    #Return\n",
        "    if array_out:\n",
        "      return [option[0, 0], price_tree, option]\n",
        "    else:\n",
        "      return option[0, 0]"
      ],
      "execution_count": null,
      "outputs": []
    },
    {
      "cell_type": "code",
      "metadata": {
        "colab": {
          "base_uri": "https://localhost:8080/"
        },
        "id": "A9yoqNXOWbIf",
        "outputId": "3d1ba740-a2aa-439d-ec85-f9d22c3b0f09"
      },
      "source": [
        "start_time = time.time()\n",
        "for i in range(1000):\n",
        "  binom_tree_call(50, 0.3, 100, 0.25, 0.05, 95, True)\n",
        "end_time = time.time()\n",
        "print(end_time-start_time)"
      ],
      "execution_count": null,
      "outputs": [
        {
          "output_type": "stream",
          "text": [
            "8.757377624511719\n"
          ],
          "name": "stdout"
        }
      ]
    },
    {
      "cell_type": "code",
      "metadata": {
        "id": "whfi95QxQf4d"
      },
      "source": [
        ""
      ],
      "execution_count": null,
      "outputs": []
    }
  ]
}