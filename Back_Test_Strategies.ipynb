{
  "nbformat": 4,
  "nbformat_minor": 0,
  "metadata": {
    "colab": {
      "name": "Back-Test Strategies.ipynb",
      "provenance": [],
      "authorship_tag": "ABX9TyOWqHazwd5mxEQiWUNeq7FH",
      "include_colab_link": true
    },
    "kernelspec": {
      "name": "python3",
      "display_name": "Python 3"
    }
  },
  "cells": [
    {
      "cell_type": "markdown",
      "metadata": {
        "id": "view-in-github",
        "colab_type": "text"
      },
      "source": [
        "<a href=\"https://colab.research.google.com/github/SuperGeekBrain/coal-exploration/blob/master/Back_Test_Strategies.ipynb\" target=\"_parent\"><img src=\"https://colab.research.google.com/assets/colab-badge.svg\" alt=\"Open In Colab\"/></a>"
      ]
    },
    {
      "cell_type": "code",
      "metadata": {
        "id": "-BPEEiGQaggv"
      },
      "source": [
        "import pandas as pd\r\n",
        "import numpy as np\r\n",
        "import yfinance as yf\r\n",
        "import datetime as dt\r\n",
        "from pandas_datatrader import data as pdr\r\n",
        "\r\n",
        "yf.pdr_override()\r\n",
        "\r\n",
        "stock=input(\"Enter a stock ticker symbol: \")\r\n",
        "print(stock)\r\n",
        "\r\n",
        "startyear=2019\r\n",
        "startmonth=1\r\n",
        "startday=1\r\n",
        "\r\n",
        "start=dt.datetime(startyear)\r\n",
        "\r\n",
        "now=dt.datetime.now()\r\n",
        "\r\n",
        "df=pdr.get_data_yahoo(stock,start,now)\r\n",
        "\r\n"
      ],
      "execution_count": null,
      "outputs": []
    }
  ]
}