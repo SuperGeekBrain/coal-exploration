{
  "nbformat": 4,
  "nbformat_minor": 0,
  "metadata": {
    "colab": {
      "name": "Binomial option pricing model.ipynb",
      "provenance": [],
      "authorship_tag": "ABX9TyP0qP7oQFiL6TnZle6IdUv+",
      "include_colab_link": true
    },
    "kernelspec": {
      "name": "python3",
      "display_name": "Python 3"
    }
  },
  "cells": [
    {
      "cell_type": "markdown",
      "metadata": {
        "id": "view-in-github",
        "colab_type": "text"
      },
      "source": [
        "<a href=\"https://colab.research.google.com/github/SuperGeekBrain/coal-exploration/blob/master/Binomial_option_pricing_model.ipynb\" target=\"_parent\"><img src=\"https://colab.research.google.com/assets/colab-badge.svg\" alt=\"Open In Colab\"/></a>"
      ]
    },
    {
      "cell_type": "code",
      "metadata": {
        "id": "VAIS8jH9QNRI"
      },
      "source": [
        "#Binomial option pricing model (put, call)"
      ],
      "execution_count": null,
      "outputs": []
    },
    {
      "cell_type": "code",
      "metadata": {
        "id": "D9oUD8seQbGf"
      },
      "source": [
        "import numpy"
      ],
      "execution_count": 18,
      "outputs": []
    },
    {
      "cell_type": "code",
      "metadata": {
        "id": "Lh0R0VXNQe9G"
      },
      "source": [
        "def binom_tree_call(N, T, S0, sigma, r, K, array_out=False):\n",
        "    # Initial parameters\n",
        "    dt = T/N\n",
        "    u = numpy.exp(sigma*numpy.sqrt(dt))\n",
        "    d = 1/u\n",
        "    p = (numpy.exp(r*dt)-d)/(u-d)\n",
        "\n",
        "    # Price tree\n",
        "    price_tree = numpy.zeros([N+1, N+1])\n",
        "\n",
        "    for i in range(N+1):\n",
        "      for j in range(1+i):\n",
        "        price_tree[j, i] = S0*(d**j)*(u**(i-j))\n",
        "\n",
        "    #Option value\n",
        "    option = numpy.zeros([N+1, N+1])\n",
        "    option[:, N] = numpy.maximum(numpy.zeros(N+1), price_tree[:, N]-K)\n",
        "\n",
        "    #Calculate option price at t=0\n",
        "    for i in numpy.arange(N-1, -1, -1):\n",
        "      for j in numpy.arange(0, i+1):\n",
        "        option[j, i] = numpy.exp(-r*dt)*(p*option[j, i+1]+(1-p)*option[j+1, i+1])\n",
        "\n",
        "    #Return\n",
        "    if array_out:\n",
        "      return [option[0, 0], price_tree, option]\n",
        "    else:\n",
        "      return option[0, 0]"
      ],
      "execution_count": 20,
      "outputs": []
    },
    {
      "cell_type": "code",
      "metadata": {
        "colab": {
          "base_uri": "https://localhost:8080/"
        },
        "id": "sNdRgNfsSl4P",
        "outputId": "afa7f68a-aff7-48e3-ed75-15c723483b41"
      },
      "source": [
        "binom_tree_call(50, 1, 100, 0.1, 0.05, 100, False)"
      ],
      "execution_count": 21,
      "outputs": [
        {
          "output_type": "execute_result",
          "data": {
            "text/plain": [
              "6.783564165691306"
            ]
          },
          "metadata": {
            "tags": []
          },
          "execution_count": 21
        }
      ]
    },
    {
      "cell_type": "code",
      "metadata": {
        "colab": {
          "base_uri": "https://localhost:8080/"
        },
        "id": "A9yoqNXOWbIf",
        "outputId": "aca6a38d-5014-4fb5-cad1-072a7fc503d5"
      },
      "source": [
        "binom_tree_call(50, 1, 100, 0.1, 0.05, 100, True)"
      ],
      "execution_count": 22,
      "outputs": [
        {
          "output_type": "execute_result",
          "data": {
            "text/plain": [
              "[6.783564165691306,\n",
              " array([[100.        , 101.42426087, 102.86880693, ..., 197.15548787,\n",
              "         199.96349633, 202.81149816],\n",
              "        [  0.        ,  98.59573946, 100.        , ..., 191.65721247,\n",
              "         194.38691115, 197.15548787],\n",
              "        [  0.        ,   0.        ,  97.2111984 , ..., 186.31227307,\n",
              "         188.96584587, 191.65721247],\n",
              "        ...,\n",
              "        [  0.        ,   0.        ,   0.        , ...,  50.72138802,\n",
              "          51.4437929 ,  52.17648671],\n",
              "        [  0.        ,   0.        ,   0.        , ...,   0.        ,\n",
              "          50.00912758,  50.72138802],\n",
              "        [  0.        ,   0.        ,   0.        , ...,   0.        ,\n",
              "           0.        ,  49.30686914]]),\n",
              " array([[  6.78356417,   7.72801529,   8.74811248, ...,  97.355288  ,\n",
              "         100.06344635, 102.81149816],\n",
              "        [  0.        ,   5.72515965,   6.58569481, ...,  91.85701261,\n",
              "          94.48686117,  97.15548787],\n",
              "        [  0.        ,   0.        ,   4.75982223, ...,  86.5120732 ,\n",
              "          89.06579589,  91.65721247],\n",
              "        ...,\n",
              "        [  0.        ,   0.        ,   0.        , ...,   0.        ,\n",
              "           0.        ,   0.        ],\n",
              "        [  0.        ,   0.        ,   0.        , ...,   0.        ,\n",
              "           0.        ,   0.        ],\n",
              "        [  0.        ,   0.        ,   0.        , ...,   0.        ,\n",
              "           0.        ,   0.        ]])]"
            ]
          },
          "metadata": {
            "tags": []
          },
          "execution_count": 22
        }
      ]
    },
    {
      "cell_type": "code",
      "metadata": {
        "id": "whfi95QxQf4d"
      },
      "source": [
        ""
      ],
      "execution_count": null,
      "outputs": []
    }
  ]
}