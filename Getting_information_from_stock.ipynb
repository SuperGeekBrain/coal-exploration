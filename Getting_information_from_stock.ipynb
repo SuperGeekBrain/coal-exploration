{
  "nbformat": 4,
  "nbformat_minor": 0,
  "metadata": {
    "colab": {
      "name": "Getting information from stock.ipynb",
      "provenance": [],
      "authorship_tag": "ABX9TyPWCbNpPPWRVggo3pxgADAd",
      "include_colab_link": true
    },
    "kernelspec": {
      "name": "python3",
      "display_name": "Python 3"
    }
  },
  "cells": [
    {
      "cell_type": "markdown",
      "metadata": {
        "id": "view-in-github",
        "colab_type": "text"
      },
      "source": [
        "<a href=\"https://colab.research.google.com/github/SuperGeekBrain/coal-exploration/blob/master/Getting_information_from_stock.ipynb\" target=\"_parent\"><img src=\"https://colab.research.google.com/assets/colab-badge.svg\" alt=\"Open In Colab\"/></a>"
      ]
    },
    {
      "cell_type": "code",
      "metadata": {
        "id": "3xHlqn5LG3Bs"
      },
      "source": [
        "#Getting information from stock"
      ],
      "execution_count": null,
      "outputs": []
    },
    {
      "cell_type": "code",
      "metadata": {
        "colab": {
          "base_uri": "https://localhost:8080/"
        },
        "id": "EeSilm_CHs4O",
        "outputId": "57218a81-02f6-449f-c2bc-4c58c8326ba9"
      },
      "source": [
        "import pandas as pd\r\n",
        "import numpy as np\r\n",
        "import yfinance as yf\r\n",
        "import datetime as dt\r\n",
        "from pandas_datareader import data as pdr\r\n",
        "\r\n",
        "yf.pdr_override()\r\n",
        "\r\n",
        "stock=input('Enter a stock ticker symbol: ')\r\n",
        "print(stock)\r\n",
        "\r\n",
        "startyear=2021\r\n",
        "startmonth=1\r\n",
        "startday=1\r\n",
        "\r\n",
        "start=dt.datetime(startyear, startmonth, startday)\r\n",
        "\r\n",
        "now=dt.datetime.now()\r\n",
        "\r\n",
        "df=pdr.get_data_yahoo(stock, start, now)\r\n",
        "\r\n",
        "print(df)"
      ],
      "execution_count": 4,
      "outputs": [
        {
          "output_type": "stream",
          "text": [
            "Enter a stock ticker symbol: TSLA\n",
            "TSLA\n",
            "[*********************100%***********************]  1 of 1 completed\n",
            "                  Open        High  ...   Adj Close    Volume\n",
            "Date                                ...                      \n",
            "2021-01-04  719.460022  744.489990  ...  729.770020  48638200\n",
            "2021-01-05  723.659973  740.840027  ...  735.109985  32245200\n",
            "2021-01-06  758.489990  774.000000  ...  755.979980  44700000\n",
            "2021-01-07  777.630005  816.989990  ...  816.039978  51498900\n",
            "2021-01-08  856.000000  884.489990  ...  880.020020  75055500\n",
            "2021-01-11  849.400024  854.429993  ...  811.190002  59554100\n",
            "2021-01-12  831.000000  868.000000  ...  849.440002  46270700\n",
            "2021-01-13  852.760010  860.469971  ...  854.409973  33312500\n",
            "2021-01-14  843.390015  863.000000  ...  845.000000  31266300\n",
            "2021-01-15  852.000000  859.900024  ...  826.159973  38777600\n",
            "2021-01-19  837.799988  850.000000  ...  844.549988  25367000\n",
            "2021-01-20  858.739990  859.500000  ...  850.450012  25665900\n",
            "2021-01-21  855.000000  855.719971  ...  844.989990  20598100\n",
            "2021-01-22  834.309998  848.000000  ...  846.640015  20066500\n",
            "2021-01-25  855.000000  900.400024  ...  880.799988  41173400\n",
            "2021-01-26  891.380005  895.900024  ...  883.090027  23131600\n",
            "2021-01-27  870.349976  891.500000  ...  864.159973  27334000\n",
            "2021-01-28  820.000000  848.000000  ...  835.429993  26378000\n",
            "2021-01-29  830.000000  842.409973  ...  793.530029  34990800\n",
            "2021-02-01  814.289978  842.000000  ...  839.809998  25391400\n",
            "2021-02-02  844.679993  880.500000  ...  872.789978  24346200\n",
            "2021-02-03  877.020020  878.080017  ...  854.690002  18343500\n",
            "2021-02-04  855.000000  856.500000  ...  849.989990  15812700\n",
            "2021-02-05  845.000000  864.770020  ...  852.229980  18524800\n",
            "2021-02-08  869.669983  877.770020  ...  863.419983  20161700\n",
            "2021-02-09  855.119995  859.799988  ...  849.460022  15157700\n",
            "2021-02-10  843.640015  844.820007  ...  804.820007  36216100\n",
            "2021-02-11  812.440002  829.880005  ...  811.659973  21580700\n",
            "2021-02-12  801.260010  817.330017  ...  816.119995  23701700\n",
            "2021-02-16  818.000000  821.000000  ...  796.219971  19187277\n",
            "\n",
            "[30 rows x 6 columns]\n"
          ],
          "name": "stdout"
        }
      ]
    },
    {
      "cell_type": "code",
      "metadata": {
        "colab": {
          "base_uri": "https://localhost:8080/"
        },
        "id": "kAPat1o5JJ0k",
        "outputId": "3b381a63-0df8-4f09-c123-17c6fa7e8ac4"
      },
      "source": [
        "pip install yfinance"
      ],
      "execution_count": 3,
      "outputs": [
        {
          "output_type": "stream",
          "text": [
            "Collecting yfinance\n",
            "  Downloading https://files.pythonhosted.org/packages/7a/e8/b9d7104d3a4bf39924799067592d9e59119fcfc900a425a12e80a3123ec8/yfinance-0.1.55.tar.gz\n",
            "Requirement already satisfied: pandas>=0.24 in /usr/local/lib/python3.6/dist-packages (from yfinance) (1.1.5)\n",
            "Requirement already satisfied: numpy>=1.15 in /usr/local/lib/python3.6/dist-packages (from yfinance) (1.19.5)\n",
            "Requirement already satisfied: requests>=2.20 in /usr/local/lib/python3.6/dist-packages (from yfinance) (2.23.0)\n",
            "Requirement already satisfied: multitasking>=0.0.7 in /usr/local/lib/python3.6/dist-packages (from yfinance) (0.0.9)\n",
            "Collecting lxml>=4.5.1\n",
            "\u001b[?25l  Downloading https://files.pythonhosted.org/packages/bd/78/56a7c88a57d0d14945472535d0df9fb4bbad7d34ede658ec7961635c790e/lxml-4.6.2-cp36-cp36m-manylinux1_x86_64.whl (5.5MB)\n",
            "\u001b[K     |████████████████████████████████| 5.5MB 6.6MB/s \n",
            "\u001b[?25hRequirement already satisfied: pytz>=2017.2 in /usr/local/lib/python3.6/dist-packages (from pandas>=0.24->yfinance) (2018.9)\n",
            "Requirement already satisfied: python-dateutil>=2.7.3 in /usr/local/lib/python3.6/dist-packages (from pandas>=0.24->yfinance) (2.8.1)\n",
            "Requirement already satisfied: urllib3!=1.25.0,!=1.25.1,<1.26,>=1.21.1 in /usr/local/lib/python3.6/dist-packages (from requests>=2.20->yfinance) (1.24.3)\n",
            "Requirement already satisfied: chardet<4,>=3.0.2 in /usr/local/lib/python3.6/dist-packages (from requests>=2.20->yfinance) (3.0.4)\n",
            "Requirement already satisfied: idna<3,>=2.5 in /usr/local/lib/python3.6/dist-packages (from requests>=2.20->yfinance) (2.10)\n",
            "Requirement already satisfied: certifi>=2017.4.17 in /usr/local/lib/python3.6/dist-packages (from requests>=2.20->yfinance) (2020.12.5)\n",
            "Requirement already satisfied: six>=1.5 in /usr/local/lib/python3.6/dist-packages (from python-dateutil>=2.7.3->pandas>=0.24->yfinance) (1.15.0)\n",
            "Building wheels for collected packages: yfinance\n",
            "  Building wheel for yfinance (setup.py) ... \u001b[?25l\u001b[?25hdone\n",
            "  Created wheel for yfinance: filename=yfinance-0.1.55-py2.py3-none-any.whl size=22616 sha256=38a2156f8d7b38f5f51476c79acd7fe98dab2d313dd201bfb9a5639ef2c564df\n",
            "  Stored in directory: /root/.cache/pip/wheels/04/98/cc/2702a4242d60bdc14f48b4557c427ded1fe92aedf257d4565c\n",
            "Successfully built yfinance\n",
            "Installing collected packages: lxml, yfinance\n",
            "  Found existing installation: lxml 4.2.6\n",
            "    Uninstalling lxml-4.2.6:\n",
            "      Successfully uninstalled lxml-4.2.6\n",
            "Successfully installed lxml-4.6.2 yfinance-0.1.55\n"
          ],
          "name": "stdout"
        }
      ]
    },
    {
      "cell_type": "code",
      "metadata": {
        "id": "qxHLnuqXJOU2"
      },
      "source": [
        ""
      ],
      "execution_count": null,
      "outputs": []
    }
  ]
}