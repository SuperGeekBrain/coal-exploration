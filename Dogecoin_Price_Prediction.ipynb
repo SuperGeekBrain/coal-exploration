{
  "nbformat": 4,
  "nbformat_minor": 0,
  "metadata": {
    "colab": {
      "name": "Dogecoin Price Prediction.ipynb",
      "provenance": [],
      "authorship_tag": "ABX9TyMm0ThLq7jGRLdcltAKCPEl",
      "include_colab_link": true
    },
    "kernelspec": {
      "name": "python3",
      "display_name": "Python 3"
    },
    "language_info": {
      "name": "python"
    }
  },
  "cells": [
    {
      "cell_type": "markdown",
      "metadata": {
        "id": "view-in-github",
        "colab_type": "text"
      },
      "source": [
        "<a href=\"https://colab.research.google.com/github/SuperGeekBrain/coal-exploration/blob/master/Dogecoin_Price_Prediction.ipynb\" target=\"_parent\"><img src=\"https://colab.research.google.com/assets/colab-badge.svg\" alt=\"Open In Colab\"/></a>"
      ]
    },
    {
      "cell_type": "code",
      "metadata": {
        "id": "DmsiRK10wR8j"
      },
      "source": [
        "#Describtion: This program attempts to predict the future price of Dogecoin"
      ],
      "execution_count": 1,
      "outputs": []
    },
    {
      "cell_type": "code",
      "metadata": {
        "id": "qwgLV3tywocn"
      },
      "source": [
        "#Import the libraries\n",
        "import numpy as np\n",
        "import pandas as pd"
      ],
      "execution_count": 2,
      "outputs": []
    },
    {
      "cell_type": "code",
      "metadata": {
        "colab": {
          "resources": {
            "http://localhost:8080/nbextensions/google.colab/files.js": {
              "data": "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",
              "ok": true,
              "headers": [
                [
                  "content-type",
                  "application/javascript"
                ]
              ],
              "status": 200,
              "status_text": ""
            }
          },
          "base_uri": "https://localhost:8080/",
          "height": 109
        },
        "id": "O8yrhxLBwx__",
        "outputId": "db1f75a3-c181-4ceb-e2a0-e8b3cff76287"
      },
      "source": [
        "#Load the data\n",
        "from google.colab import files\n",
        "files.upload()"
      ],
      "execution_count": 25,
      "outputs": [
        {
          "output_type": "display_data",
          "data": {
            "text/html": [
              "\n",
              "     <input type=\"file\" id=\"files-3718c934-15b3-4573-9cb1-4d1397a85801\" name=\"files[]\" multiple disabled\n",
              "        style=\"border:none\" />\n",
              "     <output id=\"result-3718c934-15b3-4573-9cb1-4d1397a85801\">\n",
              "      Upload widget is only available when the cell has been executed in the\n",
              "      current browser session. Please rerun this cell to enable.\n",
              "      </output>\n",
              "      <script src=\"/nbextensions/google.colab/files.js\"></script> "
            ],
            "text/plain": [
              "<IPython.core.display.HTML object>"
            ]
          },
          "metadata": {
            "tags": []
          }
        },
        {
          "output_type": "stream",
          "text": [
            "Saving Doge1.csv to Doge1.csv\n"
          ],
          "name": "stdout"
        },
        {
          "output_type": "execute_result",
          "data": {
            "text/plain": [
              "{'Doge1.csv': b'Date,High,Low,Open,Close,Volume,Adj Close\\r\\n01/12/2020,0.003572,0.003269,0.003551,0.003335,80163603,0.003335\\r\\n02/12/2020,0.003436,0.003293,0.003335,0.003374,58705661,0.003374\\r\\n03/12/2020,0.0035,0.003352,0.003375,0.003428,47907032,0.003428\\r\\n04/12/2020,0.003447,0.003285,0.003429,0.003298,45062222,0.003298\\r\\n05/12/2020,0.003414,0.003268,0.003297,0.003397,43386583,0.003397\\r\\n06/12/2020,0.003442,0.003343,0.003397,0.003388,40936574,0.003388\\r\\n07/12/2020,0.0034,0.00332,0.003388,0.003342,36923814,0.003342\\r\\n08/12/2020,0.003361,0.003138,0.003343,0.003179,52702701,0.003179\\r\\n09/12/2020,0.003182,0.003016,0.003179,0.003158,45746722,0.003158\\r\\n10/12/2020,0.003165,0.003066,0.003158,0.003105,33740988,0.003105\\r\\n11/12/2020,0.00311,0.003009,0.003105,0.003079,41712942,0.003079\\r\\n12/12/2020,0.003184,0.003075,0.003079,0.003163,35466155,0.003163\\r\\n13/12/2020,0.003274,0.003153,0.003164,0.003256,37464323,0.003256\\r\\n14/12/2020,0.003279,0.003199,0.003256,0.003231,36238516,0.003231\\r\\n15/12/2020,0.00325,0.003178,0.00323,0.003206,37127782,0.003206\\r\\n16/12/2020,0.003422,0.003186,0.003205,0.003416,50989880,0.003416\\r\\n17/12/2020,0.004113,0.003406,0.003416,0.00373,172736659,0.00373\\r\\n18/12/2020,0.00397,0.003618,0.00373,0.003858,101799430,0.003858\\r\\n19/12/2020,0.004018,0.00381,0.003859,0.003927,98447179,0.003927\\r\\n20/12/2020,0.004678,0.003827,0.003926,0.004625,508066004,0.004625\\r\\n21/12/2020,0.005406,0.004363,0.004627,0.004787,664160057,0.004787\\r\\n22/12/2020,0.004843,0.00437,0.004784,0.004508,239288785,0.004508\\r\\n23/12/2020,0.004735,0.00364,0.004508,0.003768,205080908,0.003768\\r\\n24/12/2020,0.004577,0.003697,0.003768,0.00457,143405580,0.00457\\r\\n25/12/2020,0.004613,0.004395,0.00457,0.004582,136819917,0.004582\\r\\n26/12/2020,0.00464,0.004423,0.004581,0.004494,151728507,0.004494\\r\\n27/12/2020,0.004805,0.004429,0.004493,0.004548,154526399,0.004548\\r\\n28/12/2020,0.004716,0.004523,0.004548,0.004592,99641525,0.004592\\r\\n29/12/2020,0.004608,0.004278,0.004592,0.004486,90876497,0.004486\\r\\n30/12/2020,0.004703,0.004453,0.004487,0.004636,94834499,0.004636\\r\\n31/12/2020,0.004743,0.004553,0.004636,0.004682,85498337,0.004682\\r\\n01/01/2021,0.005685,0.004615,0.004681,0.005685,228961515,0.005685\\r\\n02/01/2021,0.013698,0.005584,0.005686,0.010615,3421562680,0.010615\\r\\n03/01/2021,0.013867,0.009409,0.010602,0.009771,2707003608,0.009771\\r\\n04/01/2021,0.011421,0.007878,0.009785,0.009767,1372398979,0.009767\\r\\n05/01/2021,0.010219,0.008972,0.009767,0.00992,687256067,0.00992\\r\\n06/01/2021,0.010854,0.009685,0.009923,0.010465,749915516,0.010465\\r\\n07/01/2021,0.010532,0.009162,0.010454,0.009742,520644706,0.009742\\r\\n08/01/2021,0.010285,0.008986,0.009743,0.009846,394462164,0.009846\\r\\n09/01/2021,0.01074,0.00974,0.009833,0.010194,485842353,0.010194\\r\\n10/01/2021,0.010867,0.009177,0.010193,0.00986,458583519,0.00986\\r\\n11/01/2021,0.009858,0.00677,0.009858,0.008835,637956958,0.008835\\r\\n12/01/2021,0.009145,0.007904,0.00883,0.008063,333308457,0.008063\\r\\n13/01/2021,0.008646,0.007787,0.008062,0.008616,240079033,0.008616\\r\\n14/01/2021,0.01003,0.008349,0.008619,0.009397,428369039,0.009397\\r\\n15/01/2021,0.009796,0.00846,0.009389,0.009369,398965925,0.009369\\r\\n16/01/2021,0.009531,0.00914,0.009367,0.009265,258630480,0.009265\\r\\n17/01/2021,0.009367,0.008841,0.009263,0.009067,254487989,0.009067\\r\\n18/01/2021,0.009295,0.008981,0.00907,0.009171,205025648,0.009171\\r\\n19/01/2021,0.009613,0.00902,0.009172,0.009098,249242632,0.009098\\r\\n20/01/2021,0.009153,0.008529,0.009096,0.00906,220205442,0.00906\\r\\n21/01/2021,0.009089,0.008061,0.009062,0.008166,215419839,0.008166\\r\\n22/01/2021,0.008769,0.007654,0.008165,0.008524,185490003,0.008524\\r\\n23/01/2021,0.008808,0.008388,0.00852,0.008579,154393737,0.008579\\r\\n24/01/2021,0.008951,0.008516,0.008578,0.008727,162191977,0.008727\\r\\n25/01/2021,0.008879,0.008276,0.008727,0.008383,180820875,0.008383\\r\\n26/01/2021,0.008456,0.008022,0.008382,0.008255,161173749,0.008255\\r\\n27/01/2021,0.008259,0.007294,0.008255,0.007482,204797186,0.007482\\r\\n28/01/2021,0.013826,0.007351,0.007481,0.012555,2125005503,0.012555\\r\\n29/01/2021,0.077973,0.032341,0.043734,0.047162,25403310432,0.047162\\r\\n30/01/2021,0.049901,0.022488,0.046803,0.028176,8735576553,0.028176\\r\\n31/01/2021,0.045289,0.027102,0.028191,0.037196,8548997882,0.037196\\r\\n01/02/2021,0.04325,0.033367,0.037054,0.034875,6319224026,0.034875\\r\\n02/02/2021,0.034926,0.029195,0.03491,0.03152,3090896595,0.03152\\r\\n03/02/2021,0.039105,0.031146,0.031493,0.03712,3146856788,0.03712\\r\\n04/02/2021,0.057869,0.035945,0.037226,0.053289,13040837601,0.053289\\r\\n05/02/2021,0.05374,0.04354,0.053043,0.046935,6136160058,0.046935\\r\\n06/02/2021,0.058308,0.044904,0.046931,0.057595,5946101275,0.057595\\r\\n07/02/2021,0.084357,0.054239,0.057502,0.078782,14261024073,0.078782\\r\\n08/02/2021,0.084945,0.064702,0.078352,0.078825,12844375210,0.078825\\r\\n09/02/2021,0.083128,0.065621,0.078773,0.07007,7348840814,0.07007\\r\\n10/02/2021,0.081091,0.068525,0.070111,0.072896,6785088422,0.072896\\r\\n11/02/2021,0.074301,0.06829,0.072844,0.069676,3818556739,0.069676\\r\\n12/02/2021,0.07261,0.061445,0.06965,0.070069,4190843784,0.070069\\r\\n13/02/2021,0.071646,0.066135,0.070025,0.06645,2618049766,0.06645\\r\\n14/02/2021,0.066448,0.056723,0.066448,0.062537,3984667628,0.062537\\r\\n15/02/2021,0.063924,0.048547,0.062568,0.056591,4944804938,0.056591\\r\\n16/02/2021,0.059668,0.050983,0.056488,0.05352,3409478696,0.05352\\r\\n17/02/2021,0.054983,0.048034,0.053522,0.049376,2976148723,0.049376\\r\\n18/02/2021,0.061799,0.048989,0.049363,0.059541,4551943638,0.059541\\r\\n19/02/2021,0.059497,0.054315,0.059434,0.055139,2949251418,0.055139\\r\\n20/02/2021,0.060286,0.051628,0.055132,0.054384,3175468554,0.054384\\r\\n21/02/2021,0.058428,0.053556,0.054369,0.05598,2450293068,0.05598\\r\\n22/02/2021,0.060466,0.047096,0.056044,0.053725,3366757324,0.053725\\r\\n23/02/2021,0.053768,0.04241,0.053698,0.047392,2394345361,0.047392\\r\\n24/02/2021,0.059873,0.046216,0.047414,0.056555,4148511571,0.056555\\r\\n25/02/2021,0.057808,0.049869,0.056615,0.050167,2356982022,0.050167\\r\\n26/02/2021,0.052472,0.048708,0.050138,0.05048,1694323466,0.05048\\r\\n27/02/2021,0.05192,0.049297,0.0505,0.050083,1286229526,0.050083\\r\\n28/02/2021,0.050134,0.045088,0.050097,0.048052,1408101260,0.048052\\r\\n01/03/2021,0.051479,0.048029,0.04807,0.050599,1494427207,0.050599\\r\\n02/03/2021,0.052382,0.049299,0.050596,0.050262,1346282318,0.050262\\r\\n03/03/2021,0.052126,0.050078,0.050278,0.050592,1093877445,0.050592\\r\\n04/03/2021,0.051087,0.047879,0.050587,0.050048,1170617084,0.050048\\r\\n05/03/2021,0.050854,0.048147,0.050028,0.049609,1173113591,0.049609\\r\\n06/03/2021,0.052397,0.049383,0.049601,0.050984,1480482384,0.050984\\r\\n07/03/2021,0.052141,0.050572,0.05098,0.052122,945455832,0.052122\\r\\n08/03/2021,0.061949,0.051672,0.052123,0.061949,3554150800,0.061949\\r\\n09/03/2021,0.062268,0.056051,0.062104,0.057998,2466159943,0.057998\\r\\n10/03/2021,0.058616,0.054692,0.057964,0.056004,1534489620,0.056004\\r\\n11/03/2021,0.056698,0.054502,0.055977,0.055918,1233383425,0.055918\\r\\n12/03/2021,0.05698,0.054513,0.055921,0.055349,1287767221,0.055349\\r\\n13/03/2021,0.062432,0.054756,0.055353,0.062432,1869833076,0.062432\\r\\n14/03/2021,0.063052,0.058592,0.062384,0.058592,2752132530,0.058592\\r\\n15/03/2021,0.059689,0.055141,0.058531,0.057088,1738710876,0.057088\\r\\n16/03/2021,0.058921,0.055493,0.057086,0.058607,1393771913,0.058607\\r\\n17/03/2021,0.058866,0.056471,0.05861,0.057653,861926643,0.057653\\r\\n18/03/2021,0.058828,0.054143,0.05764,0.057383,909777445,0.057383\\r\\n19/03/2021,0.059721,0.056604,0.057377,0.058328,964747809,0.058328\\r\\n20/03/2021,0.060639,0.05812,0.058315,0.058961,1012934488,0.058961\\r\\n21/03/2021,0.059521,0.056798,0.05897,0.057234,759592996,0.057234\\r\\n22/03/2021,0.057732,0.054909,0.057259,0.054962,696918565,0.054962\\r\\n23/03/2021,0.056081,0.05294,0.054941,0.053556,1040781777,0.053556\\r\\n24/03/2021,0.056494,0.051242,0.053528,0.051702,934537959,0.051702\\r\\n25/03/2021,0.052407,0.049697,0.051699,0.051448,1084214116,0.051448\\r\\n26/03/2021,0.054028,0.051331,0.051433,0.053952,776280028,0.053952\\r\\n27/03/2021,0.055435,0.053528,0.05394,0.054377,753844053,0.054377\\r\\n28/03/2021,0.054752,0.053013,0.054381,0.053698,460472975,0.053698\\r\\n29/03/2021,0.054651,0.053175,0.053678,0.054052,537919140,0.054052\\r\\n30/03/2021,0.055434,0.053697,0.054052,0.0539,728906171,0.0539\\r\\n31/03/2021,0.054468,0.052269,0.053902,0.053657,653389282,0.053657\\r\\n01/04/2021,0.070111,0.053644,0.053655,0.061986,5816046822,0.061986\\r\\n02/04/2021,0.062249,0.057333,0.061968,0.057664,2166925111,0.057664\\r\\n03/04/2021,0.059484,0.055804,0.057658,0.055804,1136931403,0.055804\\r\\n04/04/2021,0.058107,0.055295,0.055776,0.057404,938035097,0.057404\\r\\n05/04/2021,0.060153,0.056435,0.057411,0.059696,1513832721,0.059696\\r\\n06/04/2021,0.06505,0.058094,0.059689,0.064458,2608613912,0.064458\\r\\n07/04/2021,0.067299,0.057641,0.064454,0.059028,2857060849,0.059028\\r\\n08/04/2021,0.061745,0.058817,0.059036,0.061464,1055257541,0.061464\\r\\n09/04/2021,0.06391,0.060296,0.061463,0.061684,1060465774,0.061684\\r\\n10/04/2021,0.065068,0.060818,0.061591,0.063845,1369793118,0.063845\\r\\n11/04/2021,0.079243,0.063203,0.063749,0.074649,6646627317,0.074649\\r\\n12/04/2021,0.074986,0.068889,0.074544,0.070767,2687720380,0.070767\\r\\n13/04/2021,0.095181,0.070678,0.070678,0.093445,7176815090,0.093445\\r\\n14/04/2021,0.14251,0.092452,0.094256,0.121517,20977679327,0.121517\\r\\n15/04/2021,0.187326,0.120736,0.121167,0.182207,17916620386,0.182207\\r\\n16/04/2021,0.4377,0.180488,0.181587,0.36587,69410680685,0.36587\\r\\n17/04/2021,0.374455,0.236524,0.366098,0.284173,31413404067,0.284173\\r\\n18/04/2021,0.349918,0.24644,0.285105,0.320475,23464350388,0.320475\\r\\n19/04/2021,0.431751,0.30908,0.320466,0.407318,30641432779,0.407318\\r\\n20/04/2021,0.422347,0.271618,0.408435,0.3195,28130646191,0.3195\\r\\n21/04/2021,0.346966,0.297036,0.316953,0.306925,12723463706,0.306925\\r\\n22/04/2021,0.308757,0.256276,0.30599,0.260967,11879823706,0.260967\\r\\n23/04/2021,0.268378,0.163669,0.261023,0.248509,16165566164,0.248509\\r\\n24/04/2021,0.28939,0.229891,0.249544,0.270212,11057578568,0.270212\\r\\n25/04/2021,0.288771,0.226301,0.269789,0.251111,6849914675,0.251111\\r\\n26/04/2021,0.280452,0.248026,0.25124,0.270674,5118886527,0.270674\\r\\n27/04/2021,0.279629,0.264928,0.271427,0.272188,3590611310,0.272188\\r\\n28/04/2021,0.344662,0.256231,0.272273,0.323682,14464343767,0.323682\\r\\n29/04/2021,0.323881,0.296904,0.323232,0.305169,5027354503,0.305169\\r\\n30/04/2021,0.339757,0.302981,0.304702,0.337561,5290390982,0.337561\\r\\n01/05/2021,0.397135,0.32829,0.337559,0.392987,10123343703,0.392987\\r\\n02/05/2021,0.400029,0.364874,0.391087,0.376046,8040406918,0.376046\\r\\n03/05/2021,0.414835,0.375441,0.375441,0.412812,7761140736,0.412812'}"
            ]
          },
          "metadata": {
            "tags": []
          },
          "execution_count": 25
        }
      ]
    },
    {
      "cell_type": "code",
      "metadata": {
        "colab": {
          "base_uri": "https://localhost:8080/",
          "height": 419
        },
        "id": "zFqZXK1-w3To",
        "outputId": "c5e2a801-861c-4b00-abfc-37984a4e3de6"
      },
      "source": [
        "#Store the data\n",
        "df = pd.read_csv('Doge1.csv')\n",
        "#Set the index to be the date \n",
        "df = df.set_index(pd.DatetimeIndex(df['Date'].values))\n",
        "#Show the data\n",
        "df"
      ],
      "execution_count": 26,
      "outputs": [
        {
          "output_type": "execute_result",
          "data": {
            "text/html": [
              "<div>\n",
              "<style scoped>\n",
              "    .dataframe tbody tr th:only-of-type {\n",
              "        vertical-align: middle;\n",
              "    }\n",
              "\n",
              "    .dataframe tbody tr th {\n",
              "        vertical-align: top;\n",
              "    }\n",
              "\n",
              "    .dataframe thead th {\n",
              "        text-align: right;\n",
              "    }\n",
              "</style>\n",
              "<table border=\"1\" class=\"dataframe\">\n",
              "  <thead>\n",
              "    <tr style=\"text-align: right;\">\n",
              "      <th></th>\n",
              "      <th>Date</th>\n",
              "      <th>High</th>\n",
              "      <th>Low</th>\n",
              "      <th>Open</th>\n",
              "      <th>Close</th>\n",
              "      <th>Volume</th>\n",
              "      <th>Adj Close</th>\n",
              "    </tr>\n",
              "  </thead>\n",
              "  <tbody>\n",
              "    <tr>\n",
              "      <th>2020-01-12</th>\n",
              "      <td>01/12/2020</td>\n",
              "      <td>0.003572</td>\n",
              "      <td>0.003269</td>\n",
              "      <td>0.003551</td>\n",
              "      <td>0.003335</td>\n",
              "      <td>80163603</td>\n",
              "      <td>0.003335</td>\n",
              "    </tr>\n",
              "    <tr>\n",
              "      <th>2020-02-12</th>\n",
              "      <td>02/12/2020</td>\n",
              "      <td>0.003436</td>\n",
              "      <td>0.003293</td>\n",
              "      <td>0.003335</td>\n",
              "      <td>0.003374</td>\n",
              "      <td>58705661</td>\n",
              "      <td>0.003374</td>\n",
              "    </tr>\n",
              "    <tr>\n",
              "      <th>2020-03-12</th>\n",
              "      <td>03/12/2020</td>\n",
              "      <td>0.003500</td>\n",
              "      <td>0.003352</td>\n",
              "      <td>0.003375</td>\n",
              "      <td>0.003428</td>\n",
              "      <td>47907032</td>\n",
              "      <td>0.003428</td>\n",
              "    </tr>\n",
              "    <tr>\n",
              "      <th>2020-04-12</th>\n",
              "      <td>04/12/2020</td>\n",
              "      <td>0.003447</td>\n",
              "      <td>0.003285</td>\n",
              "      <td>0.003429</td>\n",
              "      <td>0.003298</td>\n",
              "      <td>45062222</td>\n",
              "      <td>0.003298</td>\n",
              "    </tr>\n",
              "    <tr>\n",
              "      <th>2020-05-12</th>\n",
              "      <td>05/12/2020</td>\n",
              "      <td>0.003414</td>\n",
              "      <td>0.003268</td>\n",
              "      <td>0.003297</td>\n",
              "      <td>0.003397</td>\n",
              "      <td>43386583</td>\n",
              "      <td>0.003397</td>\n",
              "    </tr>\n",
              "    <tr>\n",
              "      <th>...</th>\n",
              "      <td>...</td>\n",
              "      <td>...</td>\n",
              "      <td>...</td>\n",
              "      <td>...</td>\n",
              "      <td>...</td>\n",
              "      <td>...</td>\n",
              "      <td>...</td>\n",
              "    </tr>\n",
              "    <tr>\n",
              "      <th>2021-04-29</th>\n",
              "      <td>29/04/2021</td>\n",
              "      <td>0.323881</td>\n",
              "      <td>0.296904</td>\n",
              "      <td>0.323232</td>\n",
              "      <td>0.305169</td>\n",
              "      <td>5027354503</td>\n",
              "      <td>0.305169</td>\n",
              "    </tr>\n",
              "    <tr>\n",
              "      <th>2021-04-30</th>\n",
              "      <td>30/04/2021</td>\n",
              "      <td>0.339757</td>\n",
              "      <td>0.302981</td>\n",
              "      <td>0.304702</td>\n",
              "      <td>0.337561</td>\n",
              "      <td>5290390982</td>\n",
              "      <td>0.337561</td>\n",
              "    </tr>\n",
              "    <tr>\n",
              "      <th>2021-01-05</th>\n",
              "      <td>01/05/2021</td>\n",
              "      <td>0.397135</td>\n",
              "      <td>0.328290</td>\n",
              "      <td>0.337559</td>\n",
              "      <td>0.392987</td>\n",
              "      <td>10123343703</td>\n",
              "      <td>0.392987</td>\n",
              "    </tr>\n",
              "    <tr>\n",
              "      <th>2021-02-05</th>\n",
              "      <td>02/05/2021</td>\n",
              "      <td>0.400029</td>\n",
              "      <td>0.364874</td>\n",
              "      <td>0.391087</td>\n",
              "      <td>0.376046</td>\n",
              "      <td>8040406918</td>\n",
              "      <td>0.376046</td>\n",
              "    </tr>\n",
              "    <tr>\n",
              "      <th>2021-03-05</th>\n",
              "      <td>03/05/2021</td>\n",
              "      <td>0.414835</td>\n",
              "      <td>0.375441</td>\n",
              "      <td>0.375441</td>\n",
              "      <td>0.412812</td>\n",
              "      <td>7761140736</td>\n",
              "      <td>0.412812</td>\n",
              "    </tr>\n",
              "  </tbody>\n",
              "</table>\n",
              "<p>154 rows × 7 columns</p>\n",
              "</div>"
            ],
            "text/plain": [
              "                  Date      High       Low  ...     Close       Volume  Adj Close\n",
              "2020-01-12  01/12/2020  0.003572  0.003269  ...  0.003335     80163603   0.003335\n",
              "2020-02-12  02/12/2020  0.003436  0.003293  ...  0.003374     58705661   0.003374\n",
              "2020-03-12  03/12/2020  0.003500  0.003352  ...  0.003428     47907032   0.003428\n",
              "2020-04-12  04/12/2020  0.003447  0.003285  ...  0.003298     45062222   0.003298\n",
              "2020-05-12  05/12/2020  0.003414  0.003268  ...  0.003397     43386583   0.003397\n",
              "...                ...       ...       ...  ...       ...          ...        ...\n",
              "2021-04-29  29/04/2021  0.323881  0.296904  ...  0.305169   5027354503   0.305169\n",
              "2021-04-30  30/04/2021  0.339757  0.302981  ...  0.337561   5290390982   0.337561\n",
              "2021-01-05  01/05/2021  0.397135  0.328290  ...  0.392987  10123343703   0.392987\n",
              "2021-02-05  02/05/2021  0.400029  0.364874  ...  0.376046   8040406918   0.376046\n",
              "2021-03-05  03/05/2021  0.414835  0.375441  ...  0.412812   7761140736   0.412812\n",
              "\n",
              "[154 rows x 7 columns]"
            ]
          },
          "metadata": {
            "tags": []
          },
          "execution_count": 26
        }
      ]
    },
    {
      "cell_type": "code",
      "metadata": {
        "colab": {
          "base_uri": "https://localhost:8080/",
          "height": 419
        },
        "id": "J_0Ojktwyf4d",
        "outputId": "f6f5ebb2-c2f7-4438-8c6b-41db953a40e9"
      },
      "source": [
        "#Get the close price\n",
        "df = df[['Close']]\n",
        "#Show the data\n",
        "df"
      ],
      "execution_count": 27,
      "outputs": [
        {
          "output_type": "execute_result",
          "data": {
            "text/html": [
              "<div>\n",
              "<style scoped>\n",
              "    .dataframe tbody tr th:only-of-type {\n",
              "        vertical-align: middle;\n",
              "    }\n",
              "\n",
              "    .dataframe tbody tr th {\n",
              "        vertical-align: top;\n",
              "    }\n",
              "\n",
              "    .dataframe thead th {\n",
              "        text-align: right;\n",
              "    }\n",
              "</style>\n",
              "<table border=\"1\" class=\"dataframe\">\n",
              "  <thead>\n",
              "    <tr style=\"text-align: right;\">\n",
              "      <th></th>\n",
              "      <th>Close</th>\n",
              "    </tr>\n",
              "  </thead>\n",
              "  <tbody>\n",
              "    <tr>\n",
              "      <th>2020-01-12</th>\n",
              "      <td>0.003335</td>\n",
              "    </tr>\n",
              "    <tr>\n",
              "      <th>2020-02-12</th>\n",
              "      <td>0.003374</td>\n",
              "    </tr>\n",
              "    <tr>\n",
              "      <th>2020-03-12</th>\n",
              "      <td>0.003428</td>\n",
              "    </tr>\n",
              "    <tr>\n",
              "      <th>2020-04-12</th>\n",
              "      <td>0.003298</td>\n",
              "    </tr>\n",
              "    <tr>\n",
              "      <th>2020-05-12</th>\n",
              "      <td>0.003397</td>\n",
              "    </tr>\n",
              "    <tr>\n",
              "      <th>...</th>\n",
              "      <td>...</td>\n",
              "    </tr>\n",
              "    <tr>\n",
              "      <th>2021-04-29</th>\n",
              "      <td>0.305169</td>\n",
              "    </tr>\n",
              "    <tr>\n",
              "      <th>2021-04-30</th>\n",
              "      <td>0.337561</td>\n",
              "    </tr>\n",
              "    <tr>\n",
              "      <th>2021-01-05</th>\n",
              "      <td>0.392987</td>\n",
              "    </tr>\n",
              "    <tr>\n",
              "      <th>2021-02-05</th>\n",
              "      <td>0.376046</td>\n",
              "    </tr>\n",
              "    <tr>\n",
              "      <th>2021-03-05</th>\n",
              "      <td>0.412812</td>\n",
              "    </tr>\n",
              "  </tbody>\n",
              "</table>\n",
              "<p>154 rows × 1 columns</p>\n",
              "</div>"
            ],
            "text/plain": [
              "               Close\n",
              "2020-01-12  0.003335\n",
              "2020-02-12  0.003374\n",
              "2020-03-12  0.003428\n",
              "2020-04-12  0.003298\n",
              "2020-05-12  0.003397\n",
              "...              ...\n",
              "2021-04-29  0.305169\n",
              "2021-04-30  0.337561\n",
              "2021-01-05  0.392987\n",
              "2021-02-05  0.376046\n",
              "2021-03-05  0.412812\n",
              "\n",
              "[154 rows x 1 columns]"
            ]
          },
          "metadata": {
            "tags": []
          },
          "execution_count": 27
        }
      ]
    },
    {
      "cell_type": "code",
      "metadata": {
        "colab": {
          "base_uri": "https://localhost:8080/",
          "height": 541
        },
        "id": "R-rDqgPK0rDu",
        "outputId": "5394221b-62c9-4ff4-cb8b-d33f62f99e8f"
      },
      "source": [
        "#Create a variable to store the number of days into the future that we want to predict\n",
        "prediction_days = 1\n",
        "#Create a new column called Prediction \n",
        "df['Prediction'] = df[['Close']].shift(-prediction_days)\n",
        "#Show the data\n",
        "df"
      ],
      "execution_count": 28,
      "outputs": [
        {
          "output_type": "stream",
          "text": [
            "/usr/local/lib/python3.7/dist-packages/ipykernel_launcher.py:4: SettingWithCopyWarning: \n",
            "A value is trying to be set on a copy of a slice from a DataFrame.\n",
            "Try using .loc[row_indexer,col_indexer] = value instead\n",
            "\n",
            "See the caveats in the documentation: https://pandas.pydata.org/pandas-docs/stable/user_guide/indexing.html#returning-a-view-versus-a-copy\n",
            "  after removing the cwd from sys.path.\n"
          ],
          "name": "stderr"
        },
        {
          "output_type": "execute_result",
          "data": {
            "text/html": [
              "<div>\n",
              "<style scoped>\n",
              "    .dataframe tbody tr th:only-of-type {\n",
              "        vertical-align: middle;\n",
              "    }\n",
              "\n",
              "    .dataframe tbody tr th {\n",
              "        vertical-align: top;\n",
              "    }\n",
              "\n",
              "    .dataframe thead th {\n",
              "        text-align: right;\n",
              "    }\n",
              "</style>\n",
              "<table border=\"1\" class=\"dataframe\">\n",
              "  <thead>\n",
              "    <tr style=\"text-align: right;\">\n",
              "      <th></th>\n",
              "      <th>Close</th>\n",
              "      <th>Prediction</th>\n",
              "    </tr>\n",
              "  </thead>\n",
              "  <tbody>\n",
              "    <tr>\n",
              "      <th>2020-01-12</th>\n",
              "      <td>0.003335</td>\n",
              "      <td>0.003374</td>\n",
              "    </tr>\n",
              "    <tr>\n",
              "      <th>2020-02-12</th>\n",
              "      <td>0.003374</td>\n",
              "      <td>0.003428</td>\n",
              "    </tr>\n",
              "    <tr>\n",
              "      <th>2020-03-12</th>\n",
              "      <td>0.003428</td>\n",
              "      <td>0.003298</td>\n",
              "    </tr>\n",
              "    <tr>\n",
              "      <th>2020-04-12</th>\n",
              "      <td>0.003298</td>\n",
              "      <td>0.003397</td>\n",
              "    </tr>\n",
              "    <tr>\n",
              "      <th>2020-05-12</th>\n",
              "      <td>0.003397</td>\n",
              "      <td>0.003388</td>\n",
              "    </tr>\n",
              "    <tr>\n",
              "      <th>...</th>\n",
              "      <td>...</td>\n",
              "      <td>...</td>\n",
              "    </tr>\n",
              "    <tr>\n",
              "      <th>2021-04-29</th>\n",
              "      <td>0.305169</td>\n",
              "      <td>0.337561</td>\n",
              "    </tr>\n",
              "    <tr>\n",
              "      <th>2021-04-30</th>\n",
              "      <td>0.337561</td>\n",
              "      <td>0.392987</td>\n",
              "    </tr>\n",
              "    <tr>\n",
              "      <th>2021-01-05</th>\n",
              "      <td>0.392987</td>\n",
              "      <td>0.376046</td>\n",
              "    </tr>\n",
              "    <tr>\n",
              "      <th>2021-02-05</th>\n",
              "      <td>0.376046</td>\n",
              "      <td>0.412812</td>\n",
              "    </tr>\n",
              "    <tr>\n",
              "      <th>2021-03-05</th>\n",
              "      <td>0.412812</td>\n",
              "      <td>NaN</td>\n",
              "    </tr>\n",
              "  </tbody>\n",
              "</table>\n",
              "<p>154 rows × 2 columns</p>\n",
              "</div>"
            ],
            "text/plain": [
              "               Close  Prediction\n",
              "2020-01-12  0.003335    0.003374\n",
              "2020-02-12  0.003374    0.003428\n",
              "2020-03-12  0.003428    0.003298\n",
              "2020-04-12  0.003298    0.003397\n",
              "2020-05-12  0.003397    0.003388\n",
              "...              ...         ...\n",
              "2021-04-29  0.305169    0.337561\n",
              "2021-04-30  0.337561    0.392987\n",
              "2021-01-05  0.392987    0.376046\n",
              "2021-02-05  0.376046    0.412812\n",
              "2021-03-05  0.412812         NaN\n",
              "\n",
              "[154 rows x 2 columns]"
            ]
          },
          "metadata": {
            "tags": []
          },
          "execution_count": 28
        }
      ]
    },
    {
      "cell_type": "code",
      "metadata": {
        "colab": {
          "base_uri": "https://localhost:8080/"
        },
        "id": "uiBd_stt11W4",
        "outputId": "5cde4222-2db3-406c-a7d8-59c0674edacb"
      },
      "source": [
        "#Creat the independent data set (X)\n",
        "X = np.array(df.drop(['Prediction'], 1))\n",
        "#Remove the last n+1 rows of data where n is the prediction_days \n",
        "X = X[:len(df) -prediction_days -1]\n",
        "#Print the data\n",
        "print(X)"
      ],
      "execution_count": 29,
      "outputs": [
        {
          "output_type": "stream",
          "text": [
            "[[0.003335]\n",
            " [0.003374]\n",
            " [0.003428]\n",
            " [0.003298]\n",
            " [0.003397]\n",
            " [0.003388]\n",
            " [0.003342]\n",
            " [0.003179]\n",
            " [0.003158]\n",
            " [0.003105]\n",
            " [0.003079]\n",
            " [0.003163]\n",
            " [0.003256]\n",
            " [0.003231]\n",
            " [0.003206]\n",
            " [0.003416]\n",
            " [0.00373 ]\n",
            " [0.003858]\n",
            " [0.003927]\n",
            " [0.004625]\n",
            " [0.004787]\n",
            " [0.004508]\n",
            " [0.003768]\n",
            " [0.00457 ]\n",
            " [0.004582]\n",
            " [0.004494]\n",
            " [0.004548]\n",
            " [0.004592]\n",
            " [0.004486]\n",
            " [0.004636]\n",
            " [0.004682]\n",
            " [0.005685]\n",
            " [0.010615]\n",
            " [0.009771]\n",
            " [0.009767]\n",
            " [0.00992 ]\n",
            " [0.010465]\n",
            " [0.009742]\n",
            " [0.009846]\n",
            " [0.010194]\n",
            " [0.00986 ]\n",
            " [0.008835]\n",
            " [0.008063]\n",
            " [0.008616]\n",
            " [0.009397]\n",
            " [0.009369]\n",
            " [0.009265]\n",
            " [0.009067]\n",
            " [0.009171]\n",
            " [0.009098]\n",
            " [0.00906 ]\n",
            " [0.008166]\n",
            " [0.008524]\n",
            " [0.008579]\n",
            " [0.008727]\n",
            " [0.008383]\n",
            " [0.008255]\n",
            " [0.007482]\n",
            " [0.012555]\n",
            " [0.047162]\n",
            " [0.028176]\n",
            " [0.037196]\n",
            " [0.034875]\n",
            " [0.03152 ]\n",
            " [0.03712 ]\n",
            " [0.053289]\n",
            " [0.046935]\n",
            " [0.057595]\n",
            " [0.078782]\n",
            " [0.078825]\n",
            " [0.07007 ]\n",
            " [0.072896]\n",
            " [0.069676]\n",
            " [0.070069]\n",
            " [0.06645 ]\n",
            " [0.062537]\n",
            " [0.056591]\n",
            " [0.05352 ]\n",
            " [0.049376]\n",
            " [0.059541]\n",
            " [0.055139]\n",
            " [0.054384]\n",
            " [0.05598 ]\n",
            " [0.053725]\n",
            " [0.047392]\n",
            " [0.056555]\n",
            " [0.050167]\n",
            " [0.05048 ]\n",
            " [0.050083]\n",
            " [0.048052]\n",
            " [0.050599]\n",
            " [0.050262]\n",
            " [0.050592]\n",
            " [0.050048]\n",
            " [0.049609]\n",
            " [0.050984]\n",
            " [0.052122]\n",
            " [0.061949]\n",
            " [0.057998]\n",
            " [0.056004]\n",
            " [0.055918]\n",
            " [0.055349]\n",
            " [0.062432]\n",
            " [0.058592]\n",
            " [0.057088]\n",
            " [0.058607]\n",
            " [0.057653]\n",
            " [0.057383]\n",
            " [0.058328]\n",
            " [0.058961]\n",
            " [0.057234]\n",
            " [0.054962]\n",
            " [0.053556]\n",
            " [0.051702]\n",
            " [0.051448]\n",
            " [0.053952]\n",
            " [0.054377]\n",
            " [0.053698]\n",
            " [0.054052]\n",
            " [0.0539  ]\n",
            " [0.053657]\n",
            " [0.061986]\n",
            " [0.057664]\n",
            " [0.055804]\n",
            " [0.057404]\n",
            " [0.059696]\n",
            " [0.064458]\n",
            " [0.059028]\n",
            " [0.061464]\n",
            " [0.061684]\n",
            " [0.063845]\n",
            " [0.074649]\n",
            " [0.070767]\n",
            " [0.093445]\n",
            " [0.121517]\n",
            " [0.182207]\n",
            " [0.36587 ]\n",
            " [0.284173]\n",
            " [0.320475]\n",
            " [0.407318]\n",
            " [0.3195  ]\n",
            " [0.306925]\n",
            " [0.260967]\n",
            " [0.248509]\n",
            " [0.270212]\n",
            " [0.251111]\n",
            " [0.270674]\n",
            " [0.272188]\n",
            " [0.323682]\n",
            " [0.305169]\n",
            " [0.337561]\n",
            " [0.392987]]\n"
          ],
          "name": "stdout"
        }
      ]
    },
    {
      "cell_type": "code",
      "metadata": {
        "colab": {
          "base_uri": "https://localhost:8080/"
        },
        "id": "GzDrnzE73J5p",
        "outputId": "0528b1b0-02ec-4577-d1ac-bba2a0d9da82"
      },
      "source": [
        "#Create a dependent data set (y)\n",
        "y = np.array(df['Prediction'])\n",
        "#Get all of the y values except the last n+1 rows\n",
        "y = y[:-prediction_days - 1]\n",
        "#Show the data\n",
        "print(y)"
      ],
      "execution_count": 31,
      "outputs": [
        {
          "output_type": "stream",
          "text": [
            "[0.003374 0.003428 0.003298 0.003397 0.003388 0.003342 0.003179 0.003158\n",
            " 0.003105 0.003079 0.003163 0.003256 0.003231 0.003206 0.003416 0.00373\n",
            " 0.003858 0.003927 0.004625 0.004787 0.004508 0.003768 0.00457  0.004582\n",
            " 0.004494 0.004548 0.004592 0.004486 0.004636 0.004682 0.005685 0.010615\n",
            " 0.009771 0.009767 0.00992  0.010465 0.009742 0.009846 0.010194 0.00986\n",
            " 0.008835 0.008063 0.008616 0.009397 0.009369 0.009265 0.009067 0.009171\n",
            " 0.009098 0.00906  0.008166 0.008524 0.008579 0.008727 0.008383 0.008255\n",
            " 0.007482 0.012555 0.047162 0.028176 0.037196 0.034875 0.03152  0.03712\n",
            " 0.053289 0.046935 0.057595 0.078782 0.078825 0.07007  0.072896 0.069676\n",
            " 0.070069 0.06645  0.062537 0.056591 0.05352  0.049376 0.059541 0.055139\n",
            " 0.054384 0.05598  0.053725 0.047392 0.056555 0.050167 0.05048  0.050083\n",
            " 0.048052 0.050599 0.050262 0.050592 0.050048 0.049609 0.050984 0.052122\n",
            " 0.061949 0.057998 0.056004 0.055918 0.055349 0.062432 0.058592 0.057088\n",
            " 0.058607 0.057653 0.057383 0.058328 0.058961 0.057234 0.054962 0.053556\n",
            " 0.051702 0.051448 0.053952 0.054377 0.053698 0.054052 0.0539   0.053657\n",
            " 0.061986 0.057664 0.055804 0.057404 0.059696 0.064458 0.059028 0.061464\n",
            " 0.061684 0.063845 0.074649 0.070767 0.093445 0.121517 0.182207 0.36587\n",
            " 0.284173 0.320475 0.407318 0.3195   0.306925 0.260967 0.248509 0.270212\n",
            " 0.251111 0.270674 0.272188 0.323682 0.305169 0.337561 0.392987 0.376046]\n"
          ],
          "name": "stdout"
        }
      ]
    },
    {
      "cell_type": "code",
      "metadata": {
        "id": "h3T-IHKQ3Gk6"
      },
      "source": [
        "#Split the data into training data set and a 20% testing data set\n",
        "from sklearn.model_selection import train_test_split\n",
        "x_train, x_test, y_train, y_test = train_test_split(X, y, test_size = 0.2)"
      ],
      "execution_count": 34,
      "outputs": []
    },
    {
      "cell_type": "code",
      "metadata": {
        "colab": {
          "base_uri": "https://localhost:8080/"
        },
        "id": "Z8E822weENwr",
        "outputId": "a218edd0-67a5-4369-afd3-621ebdbfdf3a"
      },
      "source": [
        "#Use the RandomForestRegressor for the model\n",
        "from sklearn.ensemble import RandomForestRegressor\n",
        "forest = RandomForestRegressor(n_estimators = 2, random_state = 587)\n",
        "forest.fit(x_train, y_train)\n",
        "print(forest.score(x_test, y_test))"
      ],
      "execution_count": 35,
      "outputs": [
        {
          "output_type": "stream",
          "text": [
            "0.9827618394712014\n"
          ],
          "name": "stdout"
        }
      ]
    },
    {
      "cell_type": "code",
      "metadata": {
        "colab": {
          "base_uri": "https://localhost:8080/"
        },
        "id": "O65ffsKzGmoF",
        "outputId": "10affb96-425b-456d-c681-feaac6478e0f"
      },
      "source": [
        "#Show how close the predicted values and the actual values are \n",
        "prediction = forest.predict(x_test)\n",
        "#Print the predicted test values\n",
        "print(prediction)\n",
        "print()\n",
        "#Print the actual values \n",
        "print(y_test)"
      ],
      "execution_count": 39,
      "outputs": [
        {
          "output_type": "stream",
          "text": [
            "[0.057383   0.00418735 0.049376   0.034358   0.059331   0.062432\n",
            " 0.283946   0.05853725 0.054496   0.00326789 0.00845239 0.072896\n",
            " 0.2595915  0.056591   0.048052   0.00845239 0.056555   0.00326789\n",
            " 0.05046475 0.00845239 0.00326789 0.05046475 0.2873965  0.059331\n",
            " 0.01006019 0.00445939 0.00326789 0.074796   0.00883858 0.061629\n",
            " 0.00845239]\n",
            "\n",
            "[0.055804 0.003858 0.051702 0.03712  0.055139 0.053556 0.337561 0.054962\n",
            " 0.055918 0.003374 0.008524 0.06645  0.270212 0.058592 0.05048  0.009171\n",
            " 0.050599 0.003158 0.050262 0.008063 0.00373  0.050048 0.272188 0.064458\n",
            " 0.00986  0.004494 0.003079 0.07007  0.009067 0.063845 0.008383]\n"
          ],
          "name": "stdout"
        }
      ]
    },
    {
      "cell_type": "code",
      "metadata": {
        "colab": {
          "base_uri": "https://localhost:8080/"
        },
        "id": "KvhuUqV2IVuM",
        "outputId": "2cf5f2cc-3ddc-460a-b220-fcc20c158a33"
      },
      "source": [
        "#Get the validation data for the model \n",
        "#Create a variable to store all of the rows in the data set except the last n rows\n",
        "temp_df = df[:-prediction_days]\n",
        "#Create a variable to store the independent price value\n",
        "x_val = temp_df.tail(1)['Close'][0]\n",
        "#Show the data\n",
        "print(x_val)"
      ],
      "execution_count": 41,
      "outputs": [
        {
          "output_type": "stream",
          "text": [
            "0.376046\n"
          ],
          "name": "stdout"
        }
      ]
    },
    {
      "cell_type": "code",
      "metadata": {
        "colab": {
          "base_uri": "https://localhost:8080/"
        },
        "id": "_CwpSuc-I_ef",
        "outputId": "2ef0b236-0ac4-46f1-f156-8ab8160729fa"
      },
      "source": [
        "prediction = forest.predict([[x_val]])\n",
        "#Print the price of Dogecoin for the next n days\n",
        "print('The price of Dogecoin in', prediction_days, 'day(s) is predicted to be', prediction)\n",
        "#Print the actual value for the next n days\n",
        "print('The actual price was', temp_df.tail(1)['Prediction'][0])"
      ],
      "execution_count": 46,
      "outputs": [
        {
          "output_type": "stream",
          "text": [
            "The price of Dogecoin in 1 day(s) is predicted to be [0.294671]\n",
            "The actual price was 0.412812\n"
          ],
          "name": "stdout"
        }
      ]
    }
  ]
}