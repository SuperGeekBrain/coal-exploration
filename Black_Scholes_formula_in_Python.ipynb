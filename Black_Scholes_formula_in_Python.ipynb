{
  "nbformat": 4,
  "nbformat_minor": 0,
  "metadata": {
    "colab": {
      "name": "Black-Scholes formula in Python.ipynb",
      "provenance": [],
      "authorship_tag": "ABX9TyOjm5S7ZRsVKocexyRQcedW",
      "include_colab_link": true
    },
    "kernelspec": {
      "name": "python3",
      "display_name": "Python 3"
    }
  },
  "cells": [
    {
      "cell_type": "markdown",
      "metadata": {
        "id": "view-in-github",
        "colab_type": "text"
      },
      "source": [
        "<a href=\"https://colab.research.google.com/github/SuperGeekBrain/coal-exploration/blob/master/Black_Scholes_formula_in_Python.ipynb\" target=\"_parent\"><img src=\"https://colab.research.google.com/assets/colab-badge.svg\" alt=\"Open In Colab\"/></a>"
      ]
    },
    {
      "cell_type": "code",
      "metadata": {
        "id": "s8GkDx2PsirG"
      },
      "source": [
        "#Implementing the Black-Scholes formula in Python"
      ],
      "execution_count": 11,
      "outputs": []
    },
    {
      "cell_type": "code",
      "metadata": {
        "id": "esvUQLCes1yt"
      },
      "source": [
        "import numpy as np\n",
        "from scipy.stats import norm"
      ],
      "execution_count": 14,
      "outputs": []
    },
    {
      "cell_type": "code",
      "metadata": {
        "id": "cEQC-zyztAAM"
      },
      "source": [
        "#Define variables"
      ],
      "execution_count": 12,
      "outputs": []
    },
    {
      "cell_type": "code",
      "metadata": {
        "colab": {
          "base_uri": "https://localhost:8080/"
        },
        "id": "Y7VRCojBtLnm",
        "outputId": "b345411f-8f3e-465b-a54a-870fa091d981"
      },
      "source": [
        "r = 0.01\n",
        "S = 30\n",
        "K = 40\n",
        "T = 240/365\n",
        "sigma = 0.30\n",
        "\n",
        "def blackScholes (r, S, K ,T, sigma, type ='C'):\n",
        "  \"Calculate BS option price for a call/put\"\n",
        "  d1 = (np.log(S/K) + (r + sigma**2/2)*T)/(sigma*np.sqrt(T))\n",
        "  d2 = d1 - sigma*np.sqrt(T)\n",
        "  try:\n",
        "    if type == \"C\":\n",
        "      price = S*norm.cdf(d1, 0, 1) - K*np.exp(-r*T)*norm.cdf(d2, 0, 1)\n",
        "    elif type ==\"P\":\n",
        "      price = K*np.exp(-r*T)*norm.cdf(-d2, 0, 1) - S*norm.cdf(-d1, 0, 1)\n",
        "    return price\n",
        "  except:\n",
        "    print(\"Please confirm all option parameters above\")\n",
        "\n",
        "print(\"Option Price is: \", round(blackScholes(r, S, K, T, sigma, type =\"C\"), 2) )\n"
      ],
      "execution_count": 17,
      "outputs": [
        {
          "output_type": "stream",
          "text": [
            "Option Price is:  0.51\n"
          ],
          "name": "stdout"
        }
      ]
    }
  ]
}