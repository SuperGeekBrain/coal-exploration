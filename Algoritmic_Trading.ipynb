{
  "nbformat": 4,
  "nbformat_minor": 0,
  "metadata": {
    "colab": {
      "name": "Algoritmic Trading.ipynb",
      "provenance": [],
      "authorship_tag": "ABX9TyNGj5dn6+BgCusjWR3ofR06",
      "include_colab_link": true
    },
    "kernelspec": {
      "name": "python3",
      "display_name": "Python 3"
    }
  },
  "cells": [
    {
      "cell_type": "markdown",
      "metadata": {
        "id": "view-in-github",
        "colab_type": "text"
      },
      "source": [
        "<a href=\"https://colab.research.google.com/github/SuperGeekBrain/coal-exploration/blob/master/Algoritmic_Trading.ipynb\" target=\"_parent\"><img src=\"https://colab.research.google.com/assets/colab-badge.svg\" alt=\"Open In Colab\"/></a>"
      ]
    },
    {
      "cell_type": "code",
      "metadata": {
        "id": "zckzyMXHWgGE"
      },
      "source": [
        "#Algoritmic Trading"
      ],
      "execution_count": null,
      "outputs": []
    },
    {
      "cell_type": "code",
      "metadata": {
        "colab": {
          "base_uri": "https://localhost:8080/"
        },
        "id": "oP-S-UBGWnEM",
        "outputId": "b19fc4b2-e68f-4235-c67f-ec3ca6a0cdcc"
      },
      "source": [
        "import backtrader\r\n",
        "cerebro = backtrader.Cerebro()\r\n",
        "\r\n",
        "cerebro.broker.set_cash(1000000)\r\n",
        "\r\n",
        "print('Starting Portfolio Value: %.2f' % cerebro.broker.getvalue())\r\n",
        "cerebro.run()\r\n",
        "print('Final Portfolio Value: %.2f' % cerebro.broker.getvalue())"
      ],
      "execution_count": 9,
      "outputs": [
        {
          "output_type": "stream",
          "text": [
            "Starting Portfolio Value: 1000000.00\n",
            "Final Portfolio Value: 1000000.00\n"
          ],
          "name": "stdout"
        }
      ]
    }
  ]
}