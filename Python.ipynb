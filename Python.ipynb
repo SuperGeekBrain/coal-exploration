{
  "nbformat": 4,
  "nbformat_minor": 0,
  "metadata": {
    "colab": {
      "name": "Python.ipynb",
      "provenance": [],
      "authorship_tag": "ABX9TyNJBSNR8Hwk0PcOHiuxPot4",
      "include_colab_link": true
    },
    "kernelspec": {
      "name": "python3",
      "display_name": "Python 3"
    }
  },
  "cells": [
    {
      "cell_type": "markdown",
      "metadata": {
        "id": "view-in-github",
        "colab_type": "text"
      },
      "source": [
        "<a href=\"https://colab.research.google.com/github/SuperGeekBrain/coal-exploration/blob/master/Python.ipynb\" target=\"_parent\"><img src=\"https://colab.research.google.com/assets/colab-badge.svg\" alt=\"Open In Colab\"/></a>"
      ]
    },
    {
      "cell_type": "code",
      "metadata": {
        "id": "MLB3-RyLVid1"
      },
      "source": [
        ""
      ],
      "execution_count": null,
      "outputs": []
    },
    {
      "cell_type": "code",
      "metadata": {
        "id": "qi2kBe64VrP6"
      },
      "source": [
        "import pandas as \r\n",
        "import numpy as np\r\n",
        "import yfinance as yf\r\n",
        "import datetime as dt\r\n",
        "from pandas_datareader import data as pdr\r\n",
        "\r\n",
        "yf.pdr_override() # Activate yahoo finance workaround\r\n",
        "now = dt.datetime.now() #Runs until todays date\r\n",
        "stock = input(\"Enter the stock symbol (enter 'quit' to stop): \") #Query user for stock ticker \r\n",
        "\r\n",
        "startyear=2019\r\n",
        "startmonth=1\r\n",
        "startday=1\r\n",
        "start=dt.datetime(startyear,startmonth,startday) #Set starting time for datasample\r\n",
        "\r\n",
        "df = pdr.get_data_yahoo(stock, start, now) #creat panda dataframe with stock data\r\n",
        "print(df.tail())"
      ],
      "execution_count": null,
      "outputs": []
    }
  ]
}